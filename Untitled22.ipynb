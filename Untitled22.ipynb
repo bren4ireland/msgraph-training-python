{
  "nbformat": 4,
  "nbformat_minor": 0,
  "metadata": {
    "colab": {
      "provenance": [],
      "authorship_tag": "ABX9TyMeU0Ez31x95GzX9kyV6Wk4",
      "include_colab_link": true
    },
    "kernelspec": {
      "name": "python3",
      "display_name": "Python 3"
    },
    "language_info": {
      "name": "python"
    }
  },
  "cells": [
    {
      "cell_type": "markdown",
      "metadata": {
        "id": "view-in-github",
        "colab_type": "text"
      },
      "source": [
        "<a href=\"https://colab.research.google.com/github/bren4ireland/msgraph-training-python/blob/main/Untitled22.ipynb\" target=\"_parent\"><img src=\"https://colab.research.google.com/assets/colab-badge.svg\" alt=\"Open In Colab\"/></a>"
      ]
    },
    {
      "cell_type": "code",
      "execution_count": null,
      "metadata": {
        "colab": {
          "base_uri": "https://localhost:8080/"
        },
        "id": "TmllL23-1xJm",
        "outputId": "881e721a-a0ca-462c-c420-f5515c1adbeb"
      },
      "outputs": [
        {
          "output_type": "stream",
          "name": "stderr",
          "text": [
            "..\n",
            "----------------------------------------------------------------------\n",
            "Ran 2 tests in 0.008s\n",
            "\n",
            "OK\n"
          ]
        },
        {
          "output_type": "execute_result",
          "data": {
            "text/plain": [
              "<unittest.runner.TextTestResult run=2 errors=0 failures=0>"
            ]
          },
          "metadata": {},
          "execution_count": 22
        }
      ],
      "source": [
        "import unittest\n",
        "\n",
        "def add_numbers(x,y):\n",
        "  return x+y\n",
        "\n",
        "def multiply_number(x1,y1):\n",
        "  return x1 * y1\n",
        "\n",
        "\n",
        "class TestAddNumbers(unittest.TestCase):\n",
        "   def test_add_numbers(self):\n",
        "        self.assertEqual(add_numbers(2, 3), 5)\n",
        "        self.assertEqual(add_numbers(-1, 1), 0)\n",
        "\n",
        "   def test_multiply_numbers(self):\n",
        "       self.assertEqual(multiply_number(3,2),6)\n",
        "       self.assertEqual(multiply_number(7,2),14)\n",
        "\n",
        "\n",
        "test_suite = unittest.TestLoader().loadTestsFromTestCase(TestAddNumbers)\n",
        "\n",
        "    # Create a TextTestRunner instance\n",
        "text_runner = unittest.TextTestRunner()\n",
        "\n",
        "    # Run the test suite using the TextTestRunner\n",
        "text_runner.run(test_suite)\n",
        "\n",
        "\n",
        "\n",
        "\n"
      ]
    },
    {
      "cell_type": "code",
      "source": [],
      "metadata": {
        "id": "rM0h4kua2oeg"
      },
      "execution_count": null,
      "outputs": []
    }
  ]
}